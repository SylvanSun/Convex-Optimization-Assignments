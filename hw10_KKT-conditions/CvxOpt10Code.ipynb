{
 "cells": [
  {
   "cell_type": "code",
   "execution_count": 2,
   "id": "2c92f0b5",
   "metadata": {},
   "outputs": [
    {
     "name": "stdout",
     "output_type": "stream",
     "text": [
      "[0.33333333 1.33333333 1.66666667]\n"
     ]
    }
   ],
   "source": [
    "#### this function should take two ndarrays and return an ndarray as solution\n",
    "import numpy as np\n",
    "def f(y,z,infty=100000):\n",
    "    zp=[-infty]\n",
    "    zn=[-infty]\n",
    "    for i in range(len(y)):\n",
    "        if(y[i]==1):\n",
    "            zp.append(z[i])\n",
    "        else:\n",
    "            zn.append(-z[i])\n",
    "    zp.sort()\n",
    "    zn.sort()\n",
    "    p=len(zp)\n",
    "    m=len(zn)\n",
    "    zp.append(infty)\n",
    "    zn.append(infty)\n",
    "    lambd=0\n",
    "    found=False\n",
    "    for k in range(p-1):\n",
    "        for l in range(m):\n",
    "            lambd=0.0\n",
    "            for i in range(p-k-1):\n",
    "                lambd+=zp[i+k+1]\n",
    "            for j in range(l):\n",
    "                lambd+=zn[j+1]\n",
    "            lambd/=(p-k+l-1)\n",
    "            if lambd<=zp[k+1] and lambd>=zp[k] and lambd<=zn[l+1] and lambd>=zn[l]:\n",
    "                found=True\n",
    "                break\n",
    "        if(found):\n",
    "            break\n",
    "    x=np.array(np.array(z)-lambd*np.array(y))\n",
    "    for i in range(len(x)):\n",
    "        if(x[i]<0):\n",
    "            x[i]=0\n",
    "    return found,x\n",
    "y=np.array([1,1,-1])\n",
    "z=np.array([1,2,1])\n",
    "check,x=f(y,z)\n",
    "if(check):\n",
    "    print(x)\n",
    "else:\n",
    "    print(\"Not Found\")"
   ]
  },
  {
   "cell_type": "code",
   "execution_count": 3,
   "id": "9113c2a2",
   "metadata": {},
   "outputs": [
    {
     "name": "stdout",
     "output_type": "stream",
     "text": [
      "status: optimal\n",
      "optimal value 0.5773502687338785\n",
      "optimal var x: [[0.33333228 1.33333495 1.66666723]]\n"
     ]
    }
   ],
   "source": [
    "#### double-check with cvxpy\n",
    "import numpy as np\n",
    "import cvxpy as cp\n",
    "x=cp.Variable((3,1))\n",
    "z=np.matrix([1,2,1]).reshape(3,1)\n",
    "y=np.matrix([1,1,-1]).reshape(3,1)\n",
    "c=np.matrix([0,0,0]).reshape(3,1)\n",
    "obj=cp.Minimize(0.5*cp.norm2(x-z))\n",
    "cons=[y.T@x==0,x>=c]\n",
    "prob=cp.Problem(obj,cons)\n",
    "prob.solve()\n",
    "print(\"status:\", prob.status)\n",
    "print(\"optimal value\", prob.value)\n",
    "print(\"optimal var x:\", x.T.value)"
   ]
  }
 ],
 "metadata": {
  "kernelspec": {
   "display_name": "Python 3",
   "language": "python",
   "name": "python3"
  },
  "language_info": {
   "codemirror_mode": {
    "name": "ipython",
    "version": 3
   },
   "file_extension": ".py",
   "mimetype": "text/x-python",
   "name": "python",
   "nbconvert_exporter": "python",
   "pygments_lexer": "ipython3",
   "version": "3.8.8"
  }
 },
 "nbformat": 4,
 "nbformat_minor": 5
}
