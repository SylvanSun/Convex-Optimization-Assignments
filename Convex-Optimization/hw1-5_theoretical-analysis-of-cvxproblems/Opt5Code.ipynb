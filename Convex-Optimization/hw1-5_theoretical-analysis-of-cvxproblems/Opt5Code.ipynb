{
 "cells": [
  {
   "cell_type": "code",
   "execution_count": 21,
   "id": "e32a3aef",
   "metadata": {},
   "outputs": [
    {
     "name": "stdout",
     "output_type": "stream",
     "text": [
      "Problem a\n",
      "status: optimal\n",
      "optimal value 0.5999999999116253\n",
      "optimal var 0.3999999999724491 0.1999999999391762 \n",
      "\n",
      "Problem b\n",
      "status: unbounded\n",
      "optimal value -inf\n",
      "optimal var None None \n",
      "\n",
      "Problem c\n",
      "status: optimal\n",
      "optimal value -2.2491441767693296e-10\n",
      "optimal var -2.2491441767693299e-10 1.5537158969947242 \n",
      "\n",
      "Problem d\n",
      "status: optimal\n",
      "optimal value 0.3333333330990559\n",
      "optimal var 0.3333333334080862 0.33333333286259564 \n",
      "\n",
      "Problem e\n",
      "status: optimal\n",
      "optimal value 0.5000000000000003\n",
      "optimal var 0.5000000000000001 0.1666666666666667 \n",
      "\n"
     ]
    }
   ],
   "source": [
    "##codes for Hw5 Problem2\n",
    "import cvxpy as cp\n",
    "x1 = cp.Variable()\n",
    "x2 = cp.Variable()\n",
    "constraints2 = [2*x1 + x2 >= 1,x1 + 3*x2 >= 1,x1>=0,x2>=0]\n",
    "obj2=[]\n",
    "obj2.append(cp.Minimize(x1+x2))\n",
    "obj2.append(cp.Minimize(-x1-x2))\n",
    "obj2.append(cp.Minimize(x1))\n",
    "obj2.append(cp.Minimize(cp.maximum(x1,x2)))\n",
    "obj2.append(cp.Minimize(x1**2+9*x2**2))\n",
    "prob2=[]\n",
    "for i in range(5):\n",
    "    prob2.append(cp.Problem(obj2[i],constraints2))\n",
    "prob2_item=['a','b','c','d','e']\n",
    "for i in range(5):\n",
    "    prob2[i].solve()\n",
    "    print(\"Problem\",prob2_item[i])\n",
    "    print(\"status:\", prob2[i].status)\n",
    "    print(\"optimal value\", prob2[i].value)\n",
    "    print(\"optimal var\", x1.value, x2.value,\"\\n\")"
   ]
  },
  {
   "cell_type": "code",
   "execution_count": 22,
   "id": "47a766f2",
   "metadata": {},
   "outputs": [
    {
     "name": "stdout",
     "output_type": "stream",
     "text": [
      "Solve the general convex problem\n",
      "status: optimal\n",
      "optimal value 13.999999988898507\n",
      "optimal var [[ 1. -1.]]\n",
      "\n",
      "Solve the transformed LP problem\n",
      "status: optimal\n",
      "optimal value 13.999999998611605\n",
      "optimal var x: [[ 1. -1.]] var t: [[4. 6. 4.]]\n"
     ]
    }
   ],
   "source": [
    "##codes for Hw5 Problem3\n",
    "#Solve the general convex problem\n",
    "import numpy as np\n",
    "x3=cp.Variable((2,1))\n",
    "A=[2,1,1,-3,1,2]\n",
    "b=[5,10,-5]\n",
    "A=np.matrix(A).reshape(3,2)\n",
    "b=np.matrix(b).reshape(3,1)\n",
    "constraints3=[cp.norm_inf(x3)<=1]\n",
    "obj3=cp.Minimize(cp.norm1(A@x3-b))\n",
    "prob3=cp.Problem(obj3,constraints3)\n",
    "prob3.solve()\n",
    "print(\"Solve the general convex problem\")\n",
    "print(\"status:\", prob3.status)\n",
    "print(\"optimal value\", prob3.value)\n",
    "print(\"optimal var\", x3.T.value)\n",
    "#Solve the transformed LP problem\n",
    "t3=cp.Variable((3,1))\n",
    "one2d=np.full(2,1).reshape(2,1)\n",
    "one3d=np.full(3,1).reshape(3,1)\n",
    "constraints3_lp=[x3<=one2d,-1*one2d<=x3,A@x3-b<=t3,-t3<=A@x3-b]\n",
    "obj3_lp=cp.Minimize(one3d.transpose()@t3)\n",
    "prob3_lp=cp.Problem(obj3_lp,constraints3_lp)\n",
    "prob3_lp.solve()\n",
    "print(\"\\nSolve the transformed LP problem\")\n",
    "print(\"status:\", prob3_lp.status)\n",
    "print(\"optimal value\", prob3_lp.value)\n",
    "print(\"optimal var x:\", x3.T.value,\"var t:\",t3.T.value)"
   ]
  },
  {
   "cell_type": "code",
   "execution_count": 19,
   "id": "161f6e63",
   "metadata": {},
   "outputs": [
    {
     "name": "stdout",
     "output_type": "stream",
     "text": [
      "Lasso\n",
      "Parameter t = 0.1\n",
      "status: optimal\n",
      "optimal value 15.83999982464975\n",
      "optimal var [[9.99999905e-02 5.97144375e-09]] \n",
      "\n",
      "Parameter t = 10\n",
      "status: optimal\n",
      "optimal value 3.9999999726481903\n",
      "optimal var [[1.49999883 1.99999744]] \n",
      "\n",
      "Ridge\n",
      "Parameter t = 0.1\n",
      "status: optimal\n",
      "optimal value 13.36541254885566\n",
      "optimal var [[0.29452711 0.11512514]] \n",
      "\n",
      "Parameter t = 100\n",
      "status: optimal\n",
      "optimal value 3.9999999935283546\n",
      "optimal var [[1.50000002 2.00000013]] \n",
      "\n"
     ]
    }
   ],
   "source": [
    "##codes for Hw5 Problem4\n",
    "#Lasso\n",
    "X=[2,0,0,1,0,0]\n",
    "y=[3,2,2]\n",
    "X=np.matrix(X).reshape(3,2)\n",
    "y=np.matrix(y).reshape(3,1)\n",
    "w=cp.Variable((2,1))\n",
    "obj4=cp.Minimize(cp.norm2(X@w-y)**2)\n",
    "para_t=[0.1,10,100]\n",
    "\n",
    "cons_norm1=[]\n",
    "for i in range(2):\n",
    "    cons_norm1.append([cp.norm1(w)<=para_t[i]])\n",
    "prob4b=[]\n",
    "for i in range(2):\n",
    "    prob4b.append(cp.Problem(obj4,cons_norm1[i]))\n",
    "print(\"Lasso\")\n",
    "for i in range(2):\n",
    "    prob4b[i].solve()\n",
    "    print(\"Parameter t =\",para_t[i])\n",
    "    print(\"status:\", prob4b[i].status)\n",
    "    print(\"optimal value\", prob4b[i].value)\n",
    "    print(\"optimal var\", w.T.value,\"\\n\")\n",
    "\n",
    "#Ridge\n",
    "cons_norm2=[]\n",
    "for i in range(2):\n",
    "    cons_norm2.append([cp.norm2(w)**2<=para_t[i*2]])\n",
    "prob4c=[]\n",
    "for i in range(2):\n",
    "    prob4c.append(cp.Problem(obj4,cons_norm2[i]))\n",
    "print(\"Ridge\")\n",
    "for i in range(2):\n",
    "    prob4c[i].solve()\n",
    "    print(\"Parameter t =\",para_t[i*2])\n",
    "    print(\"status:\", prob4c[i].status)\n",
    "    print(\"optimal value\", prob4c[i].value)\n",
    "    print(\"optimal var\", w.T.value,\"\\n\")"
   ]
  }
 ],
 "metadata": {
  "kernelspec": {
   "display_name": "Python 3",
   "language": "python",
   "name": "python3"
  },
  "language_info": {
   "codemirror_mode": {
    "name": "ipython",
    "version": 3
   },
   "file_extension": ".py",
   "mimetype": "text/x-python",
   "name": "python",
   "nbconvert_exporter": "python",
   "pygments_lexer": "ipython3",
   "version": "3.8.8"
  }
 },
 "nbformat": 4,
 "nbformat_minor": 5
}
